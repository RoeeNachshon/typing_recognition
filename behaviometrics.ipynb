{
 "cells": [
  {
   "cell_type": "code",
   "execution_count": 1,
   "id": "2dcd0f1c",
   "metadata": {},
   "outputs": [],
   "source": [
    "import pandas as pd\n",
    "import os"
   ]
  },
  {
   "cell_type": "code",
   "execution_count": 2,
   "id": "839ddc12",
   "metadata": {},
   "outputs": [],
   "source": [
    "file_name = os.path.join(\"Users\",\"liorsi\",\"Downloads\",\"db.pkl\")"
   ]
  },
  {
   "cell_type": "code",
   "execution_count": 6,
   "id": "8ca6d588",
   "metadata": {},
   "outputs": [],
   "source": [
    "df = pd.read_pickle(\"db.pkl\")"
   ]
  },
  {
   "cell_type": "code",
   "execution_count": 122,
   "id": "401f9bc3",
   "metadata": {},
   "outputs": [],
   "source": [
    "test_df = pd.read_pickle(\"oded.pkl\")"
   ]
  },
  {
   "cell_type": "code",
   "execution_count": 123,
   "id": "079c70ee",
   "metadata": {},
   "outputs": [
    {
     "data": {
      "text/html": [
       "<div>\n",
       "<style scoped>\n",
       "    .dataframe tbody tr th:only-of-type {\n",
       "        vertical-align: middle;\n",
       "    }\n",
       "\n",
       "    .dataframe tbody tr th {\n",
       "        vertical-align: top;\n",
       "    }\n",
       "\n",
       "    .dataframe thead th {\n",
       "        text-align: right;\n",
       "    }\n",
       "</style>\n",
       "<table border=\"1\" class=\"dataframe\">\n",
       "  <thead>\n",
       "    <tr style=\"text-align: right;\">\n",
       "      <th></th>\n",
       "      <th>Last key-</th>\n",
       "      <th>Current key-</th>\n",
       "      <th>HD-</th>\n",
       "      <th>RPD-</th>\n",
       "      <th>PPD-</th>\n",
       "    </tr>\n",
       "  </thead>\n",
       "  <tbody>\n",
       "    <tr>\n",
       "      <th>0</th>\n",
       "      <td>-1</td>\n",
       "      <td>60</td>\n",
       "      <td>176.0</td>\n",
       "      <td>0.0</td>\n",
       "      <td>177.0</td>\n",
       "    </tr>\n",
       "    <tr>\n",
       "      <th>1</th>\n",
       "      <td>60</td>\n",
       "      <td>17</td>\n",
       "      <td>72.0</td>\n",
       "      <td>-40.0</td>\n",
       "      <td>31.0</td>\n",
       "    </tr>\n",
       "    <tr>\n",
       "      <th>2</th>\n",
       "      <td>17</td>\n",
       "      <td>4</td>\n",
       "      <td>137.0</td>\n",
       "      <td>-24.0</td>\n",
       "      <td>113.0</td>\n",
       "    </tr>\n",
       "    <tr>\n",
       "      <th>3</th>\n",
       "      <td>4</td>\n",
       "      <td>34</td>\n",
       "      <td>76.0</td>\n",
       "      <td>7.0</td>\n",
       "      <td>83.0</td>\n",
       "    </tr>\n",
       "    <tr>\n",
       "      <th>4</th>\n",
       "      <td>34</td>\n",
       "      <td>1</td>\n",
       "      <td>117.0</td>\n",
       "      <td>17.0</td>\n",
       "      <td>134.0</td>\n",
       "    </tr>\n",
       "    <tr>\n",
       "      <th>...</th>\n",
       "      <td>...</td>\n",
       "      <td>...</td>\n",
       "      <td>...</td>\n",
       "      <td>...</td>\n",
       "      <td>...</td>\n",
       "    </tr>\n",
       "    <tr>\n",
       "      <th>95</th>\n",
       "      <td>49</td>\n",
       "      <td>51</td>\n",
       "      <td>67.0</td>\n",
       "      <td>256.0</td>\n",
       "      <td>323.0</td>\n",
       "    </tr>\n",
       "    <tr>\n",
       "      <th>96</th>\n",
       "      <td>51</td>\n",
       "      <td>43</td>\n",
       "      <td>88.0</td>\n",
       "      <td>122.0</td>\n",
       "      <td>210.0</td>\n",
       "    </tr>\n",
       "    <tr>\n",
       "      <th>97</th>\n",
       "      <td>43</td>\n",
       "      <td>49</td>\n",
       "      <td>64.0</td>\n",
       "      <td>757.0</td>\n",
       "      <td>821.0</td>\n",
       "    </tr>\n",
       "    <tr>\n",
       "      <th>98</th>\n",
       "      <td>49</td>\n",
       "      <td>5</td>\n",
       "      <td>48.0</td>\n",
       "      <td>297.0</td>\n",
       "      <td>345.0</td>\n",
       "    </tr>\n",
       "    <tr>\n",
       "      <th>99</th>\n",
       "      <td>5</td>\n",
       "      <td>51</td>\n",
       "      <td>56.0</td>\n",
       "      <td>180.0</td>\n",
       "      <td>236.0</td>\n",
       "    </tr>\n",
       "  </tbody>\n",
       "</table>\n",
       "<p>100 rows × 5 columns</p>\n",
       "</div>"
      ],
      "text/plain": [
       "    Last key-  Current key-    HD-   RPD-   PPD-\n",
       "0          -1            60  176.0    0.0  177.0\n",
       "1          60            17   72.0  -40.0   31.0\n",
       "2          17             4  137.0  -24.0  113.0\n",
       "3           4            34   76.0    7.0   83.0\n",
       "4          34             1  117.0   17.0  134.0\n",
       "..        ...           ...    ...    ...    ...\n",
       "95         49            51   67.0  256.0  323.0\n",
       "96         51            43   88.0  122.0  210.0\n",
       "97         43            49   64.0  757.0  821.0\n",
       "98         49             5   48.0  297.0  345.0\n",
       "99          5            51   56.0  180.0  236.0\n",
       "\n",
       "[100 rows x 5 columns]"
      ]
     },
     "execution_count": 123,
     "metadata": {},
     "output_type": "execute_result"
    }
   ],
   "source": [
    "test_df"
   ]
  },
  {
   "cell_type": "code",
   "execution_count": null,
   "id": "1f8afeb1",
   "metadata": {},
   "outputs": [],
   "source": [
    "#TODO:\n",
    "## -1 to null"
   ]
  },
  {
   "cell_type": "code",
   "execution_count": 105,
   "id": "5077820a",
   "metadata": {},
   "outputs": [],
   "source": [
    "\n",
    "# HD - hold duration\n",
    "# RPD - time between release to current\n",
    "# PPD - time between two press = HD + RPD #TO Remove\n"
   ]
  },
  {
   "cell_type": "code",
   "execution_count": 124,
   "id": "4ce83fca",
   "metadata": {},
   "outputs": [],
   "source": [
    "\n",
    "\n",
    "def min_max_norm(df_, col_name, min_val = -700, max_val = 700):\n",
    "    return (df_[col_name] - min_val) / (max_val - min_val)\n",
    "\n",
    "for df_to_norm in [df, test_df]:\n",
    "    for col in [\"HD-\",\"RPD-\"]:\n",
    "        df_to_norm[f\"{col}_norm\"] = min_max_norm(df_to_norm, col)\n",
    "        df_to_norm[f\"{col}_norm\"] = df_to_norm[f\"{col}_norm\"].apply(lambda x: 1 if x > 1 else x )\n",
    "        df_to_norm[f\"{col}_norm\"] = df_to_norm[f\"{col}_norm\"].apply(lambda x: 0 if x < 0 else x )"
   ]
  },
  {
   "cell_type": "code",
   "execution_count": 125,
   "id": "b45f11eb",
   "metadata": {},
   "outputs": [],
   "source": [
    "from sklearn.preprocessing import OneHotEncoder"
   ]
  },
  {
   "cell_type": "code",
   "execution_count": 126,
   "id": "49cd83bc",
   "metadata": {},
   "outputs": [
    {
     "data": {
      "text/plain": [
       "OneHotEncoder(handle_unknown='ignore')"
      ]
     },
     "execution_count": 126,
     "metadata": {},
     "output_type": "execute_result"
    }
   ],
   "source": [
    "enc = OneHotEncoder(handle_unknown='ignore')\n",
    "enc.fit(df[['Last key-',\"Current key-\"]])"
   ]
  },
  {
   "cell_type": "code",
   "execution_count": 127,
   "id": "65022ed8",
   "metadata": {},
   "outputs": [
    {
     "data": {
      "text/html": [
       "<div>\n",
       "<style scoped>\n",
       "    .dataframe tbody tr th:only-of-type {\n",
       "        vertical-align: middle;\n",
       "    }\n",
       "\n",
       "    .dataframe tbody tr th {\n",
       "        vertical-align: top;\n",
       "    }\n",
       "\n",
       "    .dataframe thead th {\n",
       "        text-align: right;\n",
       "    }\n",
       "</style>\n",
       "<table border=\"1\" class=\"dataframe\">\n",
       "  <thead>\n",
       "    <tr style=\"text-align: right;\">\n",
       "      <th></th>\n",
       "      <th>Last key-</th>\n",
       "      <th>Current key-</th>\n",
       "      <th>HD-</th>\n",
       "      <th>RPD-</th>\n",
       "      <th>PPD-</th>\n",
       "      <th>HD-_norm</th>\n",
       "      <th>RPD-_norm</th>\n",
       "    </tr>\n",
       "  </thead>\n",
       "  <tbody>\n",
       "    <tr>\n",
       "      <th>0</th>\n",
       "      <td>-1</td>\n",
       "      <td>60</td>\n",
       "      <td>176.0</td>\n",
       "      <td>0.0</td>\n",
       "      <td>177.0</td>\n",
       "      <td>0.625714</td>\n",
       "      <td>0.500000</td>\n",
       "    </tr>\n",
       "    <tr>\n",
       "      <th>1</th>\n",
       "      <td>60</td>\n",
       "      <td>17</td>\n",
       "      <td>72.0</td>\n",
       "      <td>-40.0</td>\n",
       "      <td>31.0</td>\n",
       "      <td>0.551429</td>\n",
       "      <td>0.471429</td>\n",
       "    </tr>\n",
       "    <tr>\n",
       "      <th>2</th>\n",
       "      <td>17</td>\n",
       "      <td>4</td>\n",
       "      <td>137.0</td>\n",
       "      <td>-24.0</td>\n",
       "      <td>113.0</td>\n",
       "      <td>0.597857</td>\n",
       "      <td>0.482857</td>\n",
       "    </tr>\n",
       "    <tr>\n",
       "      <th>3</th>\n",
       "      <td>4</td>\n",
       "      <td>34</td>\n",
       "      <td>76.0</td>\n",
       "      <td>7.0</td>\n",
       "      <td>83.0</td>\n",
       "      <td>0.554286</td>\n",
       "      <td>0.505000</td>\n",
       "    </tr>\n",
       "    <tr>\n",
       "      <th>4</th>\n",
       "      <td>34</td>\n",
       "      <td>1</td>\n",
       "      <td>117.0</td>\n",
       "      <td>17.0</td>\n",
       "      <td>134.0</td>\n",
       "      <td>0.583571</td>\n",
       "      <td>0.512143</td>\n",
       "    </tr>\n",
       "    <tr>\n",
       "      <th>...</th>\n",
       "      <td>...</td>\n",
       "      <td>...</td>\n",
       "      <td>...</td>\n",
       "      <td>...</td>\n",
       "      <td>...</td>\n",
       "      <td>...</td>\n",
       "      <td>...</td>\n",
       "    </tr>\n",
       "    <tr>\n",
       "      <th>95</th>\n",
       "      <td>49</td>\n",
       "      <td>51</td>\n",
       "      <td>67.0</td>\n",
       "      <td>256.0</td>\n",
       "      <td>323.0</td>\n",
       "      <td>0.547857</td>\n",
       "      <td>0.682857</td>\n",
       "    </tr>\n",
       "    <tr>\n",
       "      <th>96</th>\n",
       "      <td>51</td>\n",
       "      <td>43</td>\n",
       "      <td>88.0</td>\n",
       "      <td>122.0</td>\n",
       "      <td>210.0</td>\n",
       "      <td>0.562857</td>\n",
       "      <td>0.587143</td>\n",
       "    </tr>\n",
       "    <tr>\n",
       "      <th>97</th>\n",
       "      <td>43</td>\n",
       "      <td>49</td>\n",
       "      <td>64.0</td>\n",
       "      <td>757.0</td>\n",
       "      <td>821.0</td>\n",
       "      <td>0.545714</td>\n",
       "      <td>1.000000</td>\n",
       "    </tr>\n",
       "    <tr>\n",
       "      <th>98</th>\n",
       "      <td>49</td>\n",
       "      <td>5</td>\n",
       "      <td>48.0</td>\n",
       "      <td>297.0</td>\n",
       "      <td>345.0</td>\n",
       "      <td>0.534286</td>\n",
       "      <td>0.712143</td>\n",
       "    </tr>\n",
       "    <tr>\n",
       "      <th>99</th>\n",
       "      <td>5</td>\n",
       "      <td>51</td>\n",
       "      <td>56.0</td>\n",
       "      <td>180.0</td>\n",
       "      <td>236.0</td>\n",
       "      <td>0.540000</td>\n",
       "      <td>0.628571</td>\n",
       "    </tr>\n",
       "  </tbody>\n",
       "</table>\n",
       "<p>100 rows × 7 columns</p>\n",
       "</div>"
      ],
      "text/plain": [
       "    Last key-  Current key-    HD-   RPD-   PPD-  HD-_norm  RPD-_norm\n",
       "0          -1            60  176.0    0.0  177.0  0.625714   0.500000\n",
       "1          60            17   72.0  -40.0   31.0  0.551429   0.471429\n",
       "2          17             4  137.0  -24.0  113.0  0.597857   0.482857\n",
       "3           4            34   76.0    7.0   83.0  0.554286   0.505000\n",
       "4          34             1  117.0   17.0  134.0  0.583571   0.512143\n",
       "..        ...           ...    ...    ...    ...       ...        ...\n",
       "95         49            51   67.0  256.0  323.0  0.547857   0.682857\n",
       "96         51            43   88.0  122.0  210.0  0.562857   0.587143\n",
       "97         43            49   64.0  757.0  821.0  0.545714   1.000000\n",
       "98         49             5   48.0  297.0  345.0  0.534286   0.712143\n",
       "99          5            51   56.0  180.0  236.0  0.540000   0.628571\n",
       "\n",
       "[100 rows x 7 columns]"
      ]
     },
     "execution_count": 127,
     "metadata": {},
     "output_type": "execute_result"
    }
   ],
   "source": [
    "test_df"
   ]
  },
  {
   "cell_type": "code",
   "execution_count": 128,
   "id": "30c93025",
   "metadata": {},
   "outputs": [],
   "source": [
    "def encode_features(df_,ohe_enc):\n",
    "    keys_features_np = ohe_enc.transform(df_[['Last key-',\"Current key-\"]]).toarray()\n",
    "    keys_features_df = pd.DataFrame(keys_features_np, columns = ohe_enc.get_feature_names_out())\n",
    "    return pd.concat([df_[[\"HD-_norm\",\"RPD-_norm\"]].reset_index(drop = True),keys_features_df],axis = 1)"
   ]
  },
  {
   "cell_type": "code",
   "execution_count": 129,
   "id": "2eb65a46",
   "metadata": {},
   "outputs": [],
   "source": [
    "features = encode_features(df,enc )\n",
    "test_features = encode_features(test_df,enc )"
   ]
  },
  {
   "cell_type": "code",
   "execution_count": 84,
   "id": "a9cb92de",
   "metadata": {},
   "outputs": [],
   "source": [
    "from sklearn.svm import OneClassSVM\n",
    "clf = OneClassSVM(gamma='auto').fit(features[:2000].values)"
   ]
  },
  {
   "cell_type": "code",
   "execution_count": 118,
   "id": "17b475f5",
   "metadata": {},
   "outputs": [],
   "source": [
    "ocsvm_scores_test = clf.score_samples(features[2000:].values)\n",
    "ocsvm_scores_train = clf.score_samples(features[:2000].values)"
   ]
  },
  {
   "cell_type": "code",
   "execution_count": 120,
   "id": "0cbbb283",
   "metadata": {},
   "outputs": [
    {
     "data": {
      "text/plain": [
       "949.6686146635217"
      ]
     },
     "execution_count": 120,
     "metadata": {},
     "output_type": "execute_result"
    }
   ],
   "source": [
    "ocsvm_scores_test.mean() "
   ]
  },
  {
   "cell_type": "code",
   "execution_count": 130,
   "id": "81961f45",
   "metadata": {},
   "outputs": [
    {
     "data": {
      "text/plain": [
       "956.1041922963523"
      ]
     },
     "execution_count": 130,
     "metadata": {},
     "output_type": "execute_result"
    }
   ],
   "source": [
    "clf.score_samples(test_features.values).mean()"
   ]
  },
  {
   "cell_type": "code",
   "execution_count": 102,
   "id": "23562a53",
   "metadata": {},
   "outputs": [],
   "source": [
    "from sklearn.ensemble import IsolationForest\n",
    "isof = IsolationForest(random_state = 0).fit(features[:2000].values)"
   ]
  },
  {
   "cell_type": "code",
   "execution_count": 113,
   "id": "7c138c50",
   "metadata": {},
   "outputs": [],
   "source": [
    "isof_scores_test = isof.score_samples(features[2000:].values)\n",
    "isof_scores_train = isof.score_samples(features[:2000].values)"
   ]
  },
  {
   "cell_type": "code",
   "execution_count": 114,
   "id": "dd152502",
   "metadata": {},
   "outputs": [
    {
     "data": {
      "text/plain": [
       "-0.3554913742621293"
      ]
     },
     "execution_count": 114,
     "metadata": {},
     "output_type": "execute_result"
    }
   ],
   "source": [
    "isof_preds_train.mean()"
   ]
  },
  {
   "cell_type": "code",
   "execution_count": 131,
   "id": "94e4f2ec",
   "metadata": {},
   "outputs": [
    {
     "data": {
      "text/plain": [
       "-0.3378881949337486"
      ]
     },
     "execution_count": 131,
     "metadata": {},
     "output_type": "execute_result"
    }
   ],
   "source": [
    " isof.score_samples(test_features.values).mean()"
   ]
  },
  {
   "cell_type": "code",
   "execution_count": null,
   "id": "261009d2",
   "metadata": {},
   "outputs": [],
   "source": []
  }
 ],
 "metadata": {
  "kernelspec": {
   "display_name": "Python 3 (ipykernel)",
   "language": "python",
   "name": "python3"
  },
  "language_info": {
   "codemirror_mode": {
    "name": "ipython",
    "version": 3
   },
   "file_extension": ".py",
   "mimetype": "text/x-python",
   "name": "python",
   "nbconvert_exporter": "python",
   "pygments_lexer": "ipython3",
   "version": "3.9.5"
  }
 },
 "nbformat": 4,
 "nbformat_minor": 5
}
